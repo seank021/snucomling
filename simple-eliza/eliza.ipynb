{
  "cells": [
    {
      "cell_type": "code",
      "execution_count": 6,
      "metadata": {
        "colab": {
          "base_uri": "https://localhost:8080/"
        },
        "id": "sGexf-W29xVg",
        "outputId": "5066b940-1555-4ced-85dc-5f73465e020e"
      },
      "outputs": [
        {
          "name": "stdout",
          "output_type": "stream",
          "text": [
            "Human: You are like my father in some ways\n",
            "ELIZA: WHAT RESEMBLANCE DO YOU SEE\n",
            "Human: You are not very aggressive but I think you don’t want me to notice that.\n",
            "ELIZA: WHAT MAKES YOU THINK I AM NOT VERY AGGRESSIVE\n",
            "Human: You don’t argue with me.\n",
            "ELIZA: WHY DO YOU THINK I DON’T ARGUE WITH YOU\n",
            "Human: You are afraid of me.\n",
            "ELIZA: DOES IT PLEASE YOU TO BELIEVE I AM AFRAID OF YOU\n",
            "Human: My father is afraid of everybody.\n",
            "ELIZA: WHAT ELSE COMES TO MIND WHEN YOU THINK OF YOUR FATHER\n",
            "Human: \n",
            "ELIZA: GOODBYE\n"
          ]
        }
      ],
      "source": [
        "# Human: You are like my father in some ways.\n",
        "# ELIZA: WHAT RESEMBLANCE DO YOU SEE\n",
        "# Human: You are not very aggressive but I think you don’t want me to notice that.\n",
        "# ELIZA: WHAT MAKES YOU THINK I AM NOT VERY AGGRESSIVE\n",
        "# Human: You don’t argue with me.\n",
        "# ELIZA: WHY DO YOU THINK I DON’T ARGUE WITH YOU\n",
        "# Human: You are afraid of me.\n",
        "# ELIZA: DOES IT PLEASE YOU TO BELIEVE I AM AFRAID OF YOU\n",
        "# Human: My father is afraid of everybody.\n",
        "# ELIZA: WHAT ELSE COMES TO MIND WHEN YOU THINK OF YOUR FATHER\n",
        "\n",
        "import re\n",
        "\n",
        "def respond(message):\n",
        "\n",
        "  # preprocessing\n",
        "  message = message.upper() # 대문자로 바꾸어 주는 전처리\n",
        "  message = re.sub(r'\\s+', ' ', message) # 하나 이상의 공백 문자를 하나의 whitespace로 바꾸어 주는 전처리\n",
        "\n",
        "  # are like\n",
        "  match = re.match(r\".*\\b(?: ARE|’RE) (LIKE)\\b.*\", message)\n",
        "  if match:\n",
        "    return \"WHAT RESEMBLANCE DO YOU SEE\"\n",
        "  \n",
        "  # you are not very aggressive\n",
        "  match = re.match(r\"(?:YOU ARE|YOU’RE) (VERY|NOT VERY) (AGGRESSIVE|FIERCE|SCARY)\\b.*\", message)\n",
        "  if match:\n",
        "    response = f\"WHAT MAKES YOU THINK I AM {match.group(1)} {match.group(2)}\"\n",
        "    return response\n",
        "\n",
        "  # don't ~~ me\n",
        "  match = re.match(r\".*\\b(DONT|DON’T|DO NOT) (.*ME)\\b\", message)\n",
        "  if match:\n",
        "    response = f\"WHY DO YOU THINK I {match.group(1)} {match.group(2)}\"\n",
        "    response = re.sub(r'\\bME\\b', 'YOU', response)\n",
        "    return response\n",
        "\n",
        "  # are afraid of me\n",
        "  match = re.match(r\".*\\b(ARE|’RE) (AFRAID|SCARED) (.*ME)\\b\", message)\n",
        "  if match:\n",
        "    response = f'DOES IT PLEASE YOU TO BELIEVE I {match.group(1)} {match.group(2)} {match.group(3)}'\n",
        "    response = re.sub(r\"\\bARE|'RE\\b\", 'AM', response)\n",
        "    response = re.sub(r'\\bME\\b', 'YOU', response)\n",
        "    return response\n",
        "\n",
        "  # My ~ is|are ~.\n",
        "  match = re.match(r\"\\b(MY.*) (IS|ARE) (.*)\\b\", message)\n",
        "  if match:\n",
        "    response = f'WHAT ELSE COMES TO MIND WHEN YOU THINK OF {match.group(1)}'\n",
        "    response = re.sub(r'\\bMY(SELF)?\\b', r'YOUR\\1', response)\n",
        "    return response\n",
        "\n",
        "\n",
        "human = input('Human: ')\n",
        "while human:\n",
        "  print('ELIZA:', respond(human))\n",
        "  human = input('Human: ') \n",
        "\n",
        "print('ELIZA: GOODBYE')"
      ]
    }
  ],
  "metadata": {
    "colab": {
      "name": "eliza_김세안.ipynb",
      "provenance": []
    },
    "kernelspec": {
      "display_name": "Python 3",
      "name": "python3"
    },
    "language_info": {
      "name": "python"
    }
  },
  "nbformat": 4,
  "nbformat_minor": 0
}
